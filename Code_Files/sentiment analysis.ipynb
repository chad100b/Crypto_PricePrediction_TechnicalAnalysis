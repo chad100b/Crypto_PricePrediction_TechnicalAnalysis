{
 "cells": [
  {
   "cell_type": "code",
   "execution_count": null,
   "id": "ea271006-0a2f-4322-88f2-dad8364e2439",
   "metadata": {},
   "outputs": [],
   "source": []
  },
  {
   "cell_type": "code",
   "execution_count": null,
   "id": "1fc9961b-19b2-461b-ad60-a8f555e83df9",
   "metadata": {},
   "outputs": [],
   "source": []
  },
  {
   "cell_type": "code",
   "execution_count": null,
   "id": "a8034cc4-62e2-4604-96c1-1315d0d8abbe",
   "metadata": {},
   "outputs": [],
   "source": []
  },
  {
   "cell_type": "code",
   "execution_count": 6,
   "id": "bc961eee-290e-403c-badb-6258da4b7390",
   "metadata": {},
   "outputs": [],
   "source": [
    "# Initial imports\n",
    "import os\n",
    "import pandas as pd\n",
    "from newsapi import NewsApiClient\n",
    "from dotenv import load_dotenv\n",
    "load_dotenv('config.py.txt')\n",
    "from pathlib import Path\n",
    "import nltk\n",
    "from nltk.sentiment.vader import SentimentIntensityAnalyzer\n",
    "import json\n",
    "from pandas import json_normalize\n",
    "from ibm_watson import ToneAnalyzerV3\n",
    "from ibm_cloud_sdk_core.authenticators import IAMAuthenticator"
   ]
  },
  {
   "cell_type": "code",
   "execution_count": 7,
   "id": "b24967d3-2789-4fd3-937e-5724ce119abc",
   "metadata": {},
   "outputs": [],
   "source": [
    "\n",
    "api_key = os.getenv('NEWS_API_KEY')\n",
    "\n",
    "# Create a newsapi client\n",
    "newsapi = NewsApiClient(api_key=api_key)"
   ]
  },
  {
   "cell_type": "code",
   "execution_count": 8,
   "id": "cfb0a3dc-8da7-437c-ac9a-90796adde6fe",
   "metadata": {},
   "outputs": [
    {
     "data": {
      "text/plain": [
       "{'status': 'ok', 'totalResults': 0, 'articles': []}"
      ]
     },
     "execution_count": 8,
     "metadata": {},
     "output_type": "execute_result"
    }
   ],
   "source": [
    "XRP_headlines = newsapi.get_top_headlines(q=\"xrp\", language=\"en\", country=\"us\")\n",
    "XRP_headlines"
   ]
  },
  {
   "cell_type": "code",
   "execution_count": 9,
   "id": "38835a63-507c-4bd0-bbc8-419a0664df46",
   "metadata": {},
   "outputs": [
    {
     "name": "stdout",
     "output_type": "stream",
     "text": [
      "Total articles about XRP: 0\n"
     ]
    },
    {
     "ename": "IndexError",
     "evalue": "list index out of range",
     "output_type": "error",
     "traceback": [
      "\u001b[0;31m---------------------------------------------------------------------------\u001b[0m",
      "\u001b[0;31mIndexError\u001b[0m                                Traceback (most recent call last)",
      "\u001b[0;32m/var/folders/mn/f8f4nbqx111gc8b3lcvtc_n80000gp/T/ipykernel_14841/1926389478.py\u001b[0m in \u001b[0;36m<module>\u001b[0;34m\u001b[0m\n\u001b[1;32m      2\u001b[0m \u001b[0;34m\u001b[0m\u001b[0m\n\u001b[1;32m      3\u001b[0m \u001b[0;31m# Show sample article\u001b[0m\u001b[0;34m\u001b[0m\u001b[0;34m\u001b[0m\u001b[0m\n\u001b[0;32m----> 4\u001b[0;31m \u001b[0mXRP_headlines\u001b[0m\u001b[0;34m[\u001b[0m\u001b[0;34m\"articles\"\u001b[0m\u001b[0;34m]\u001b[0m\u001b[0;34m[\u001b[0m\u001b[0;36m0\u001b[0m\u001b[0;34m]\u001b[0m\u001b[0;34m\u001b[0m\u001b[0;34m\u001b[0m\u001b[0m\n\u001b[0m",
      "\u001b[0;31mIndexError\u001b[0m: list index out of range"
     ]
    }
   ],
   "source": [
    "print(f\"Total articles about XRP: {XRP_headlines['totalResults']}\")\n",
    "\n",
    "# Show sample article\n",
    "XRP_headlines[\"articles\"][0]"
   ]
  },
  {
   "cell_type": "code",
   "execution_count": 10,
   "id": "368e6299-36b4-446f-b022-a4231828c81a",
   "metadata": {},
   "outputs": [
    {
     "data": {
      "text/html": [
       "<div>\n",
       "<style scoped>\n",
       "    .dataframe tbody tr th:only-of-type {\n",
       "        vertical-align: middle;\n",
       "    }\n",
       "\n",
       "    .dataframe tbody tr th {\n",
       "        vertical-align: top;\n",
       "    }\n",
       "\n",
       "    .dataframe thead th {\n",
       "        text-align: right;\n",
       "    }\n",
       "</style>\n",
       "<table border=\"1\" class=\"dataframe\">\n",
       "  <thead>\n",
       "    <tr style=\"text-align: right;\">\n",
       "      <th></th>\n",
       "    </tr>\n",
       "  </thead>\n",
       "  <tbody>\n",
       "  </tbody>\n",
       "</table>\n",
       "</div>"
      ],
      "text/plain": [
       "Empty DataFrame\n",
       "Columns: []\n",
       "Index: []"
      ]
     },
     "execution_count": 10,
     "metadata": {},
     "output_type": "execute_result"
    }
   ],
   "source": [
    "XRP_df = pd.DataFrame.from_dict(XRP_headlines[\"articles\"])\n",
    "\n",
    "XRP_df.head()"
   ]
  },
  {
   "cell_type": "code",
   "execution_count": 11,
   "id": "a00ca99f-dcd8-43e1-9f4e-4769a1b1dd63",
   "metadata": {},
   "outputs": [
    {
     "name": "stdout",
     "output_type": "stream",
     "text": [
      "Total articles about XRP: 458\n"
     ]
    },
    {
     "data": {
      "text/plain": [
       "{'source': {'id': None, 'name': 'Motley Fool'},\n",
       " 'author': 'newsfeedback@fool.com (Keith Noonan)',\n",
       " 'title': 'Why XRP (Ripple) Is Soaring Today',\n",
       " 'description': \"The cryptocurrency is making big gains following positive news about Ripple's defense in the SEC lawsuit.\",\n",
       " 'url': 'https://www.fool.com/investing/2022/03/12/why-xrp-is-soaring-today/',\n",
       " 'urlToImage': 'https://g.foolcdn.com/editorial/images/670282/an-xrp-token-logo.jpg',\n",
       " 'publishedAt': '2022-03-12T19:23:45Z',\n",
       " 'content': \"What happened\\r\\nRipple's XRP( XRP -1.34% ) token is making big gains in Saturday's trading. The digital token's price was up roughly 8.3% over the previous 24-hour period as of noon ET Saturday. \\r\\nXRP… [+1945 chars]\"}"
      ]
     },
     "execution_count": 11,
     "metadata": {},
     "output_type": "execute_result"
    }
   ],
   "source": [
    "XRP_headlines_everything = newsapi.get_everything(\n",
    "    q=\"XRP\", language=\"en\", sort_by=\"relevancy\"\n",
    ")\n",
    "\n",
    "# Print total articles\n",
    "print(f\"Total articles about XRP: {XRP_headlines_everything['totalResults']}\")\n",
    "\n",
    "# Show sample article\n",
    "XRP_headlines_everything[\"articles\"][0]"
   ]
  },
  {
   "cell_type": "code",
   "execution_count": 12,
   "id": "9cadff83-1aee-4428-b37c-b1cc61863716",
   "metadata": {},
   "outputs": [
    {
     "data": {
      "text/html": [
       "<div>\n",
       "<style scoped>\n",
       "    .dataframe tbody tr th:only-of-type {\n",
       "        vertical-align: middle;\n",
       "    }\n",
       "\n",
       "    .dataframe tbody tr th {\n",
       "        vertical-align: top;\n",
       "    }\n",
       "\n",
       "    .dataframe thead th {\n",
       "        text-align: right;\n",
       "    }\n",
       "</style>\n",
       "<table border=\"1\" class=\"dataframe\">\n",
       "  <thead>\n",
       "    <tr style=\"text-align: right;\">\n",
       "      <th></th>\n",
       "      <th>source</th>\n",
       "      <th>author</th>\n",
       "      <th>title</th>\n",
       "      <th>description</th>\n",
       "      <th>url</th>\n",
       "      <th>urlToImage</th>\n",
       "      <th>publishedAt</th>\n",
       "      <th>content</th>\n",
       "    </tr>\n",
       "  </thead>\n",
       "  <tbody>\n",
       "    <tr>\n",
       "      <th>0</th>\n",
       "      <td>{'id': None, 'name': 'Motley Fool'}</td>\n",
       "      <td>newsfeedback@fool.com (Keith Noonan)</td>\n",
       "      <td>Why XRP (Ripple) Is Soaring Today</td>\n",
       "      <td>The cryptocurrency is making big gains followi...</td>\n",
       "      <td>https://www.fool.com/investing/2022/03/12/why-...</td>\n",
       "      <td>https://g.foolcdn.com/editorial/images/670282/...</td>\n",
       "      <td>2022-03-12T19:23:45Z</td>\n",
       "      <td>What happened\\r\\nRipple's XRP( XRP -1.34% ) to...</td>\n",
       "    </tr>\n",
       "    <tr>\n",
       "      <th>1</th>\n",
       "      <td>{'id': None, 'name': 'Motley Fool'}</td>\n",
       "      <td>newsfeedback@fool.com (Chris MacDonald)</td>\n",
       "      <td>Why XRP, Cardano, and Polkadot Are Surging Hig...</td>\n",
       "      <td>The crypto market is surging, but these three ...</td>\n",
       "      <td>https://www.fool.com/investing/2022/03/28/why-...</td>\n",
       "      <td>https://g.foolcdn.com/editorial/images/672278/...</td>\n",
       "      <td>2022-03-28T17:18:27Z</td>\n",
       "      <td>What happened\\r\\nToday's surge in valuations a...</td>\n",
       "    </tr>\n",
       "    <tr>\n",
       "      <th>2</th>\n",
       "      <td>{'id': None, 'name': 'ReadWrite'}</td>\n",
       "      <td>Debraj Chatterjee</td>\n",
       "      <td>Rising Blockchain Investments Drive Applicatio...</td>\n",
       "      <td>The continuing integration of technology has b...</td>\n",
       "      <td>https://readwrite.com/rising-blockchain-invest...</td>\n",
       "      <td>https://images.readwrite.com/wp-content/upload...</td>\n",
       "      <td>2022-03-07T15:00:57Z</td>\n",
       "      <td>The continuing integration of technology has b...</td>\n",
       "    </tr>\n",
       "    <tr>\n",
       "      <th>3</th>\n",
       "      <td>{'id': 'the-times-of-india', 'name': 'The Time...</td>\n",
       "      <td>Pawan Nahar</td>\n",
       "      <td>Bitcoin, Dogecoin, Shiba Inu, Terra tumble up ...</td>\n",
       "      <td>All of the top digital tokens were bleeding, w...</td>\n",
       "      <td>https://economictimes.indiatimes.com/markets/c...</td>\n",
       "      <td>https://img.etimg.com/thumb/msid-90042705,widt...</td>\n",
       "      <td>2022-03-07T03:46:02Z</td>\n",
       "      <td>New Delhi: Major cryptocurrencies continued to...</td>\n",
       "    </tr>\n",
       "    <tr>\n",
       "      <th>4</th>\n",
       "      <td>{'id': None, 'name': 'Forbes'}</td>\n",
       "      <td>John Navin, Contributor, \\n John Navin, Contri...</td>\n",
       "      <td>Big Cryptocurrencies Hold Price Support Levels...</td>\n",
       "      <td>Bitcoin, Ethereum and XRP managed to hold abov...</td>\n",
       "      <td>https://www.forbes.com/sites/johnnavin/2022/03...</td>\n",
       "      <td>https://imageio.forbes.com/specials-images/ima...</td>\n",
       "      <td>2022-03-27T14:24:18Z</td>\n",
       "      <td>Montreal, Canada - 28 February 2018: Stacked c...</td>\n",
       "    </tr>\n",
       "  </tbody>\n",
       "</table>\n",
       "</div>"
      ],
      "text/plain": [
       "                                              source  \\\n",
       "0                {'id': None, 'name': 'Motley Fool'}   \n",
       "1                {'id': None, 'name': 'Motley Fool'}   \n",
       "2                  {'id': None, 'name': 'ReadWrite'}   \n",
       "3  {'id': 'the-times-of-india', 'name': 'The Time...   \n",
       "4                     {'id': None, 'name': 'Forbes'}   \n",
       "\n",
       "                                              author  \\\n",
       "0               newsfeedback@fool.com (Keith Noonan)   \n",
       "1            newsfeedback@fool.com (Chris MacDonald)   \n",
       "2                                  Debraj Chatterjee   \n",
       "3                                        Pawan Nahar   \n",
       "4  John Navin, Contributor, \\n John Navin, Contri...   \n",
       "\n",
       "                                               title  \\\n",
       "0                  Why XRP (Ripple) Is Soaring Today   \n",
       "1  Why XRP, Cardano, and Polkadot Are Surging Hig...   \n",
       "2  Rising Blockchain Investments Drive Applicatio...   \n",
       "3  Bitcoin, Dogecoin, Shiba Inu, Terra tumble up ...   \n",
       "4  Big Cryptocurrencies Hold Price Support Levels...   \n",
       "\n",
       "                                         description  \\\n",
       "0  The cryptocurrency is making big gains followi...   \n",
       "1  The crypto market is surging, but these three ...   \n",
       "2  The continuing integration of technology has b...   \n",
       "3  All of the top digital tokens were bleeding, w...   \n",
       "4  Bitcoin, Ethereum and XRP managed to hold abov...   \n",
       "\n",
       "                                                 url  \\\n",
       "0  https://www.fool.com/investing/2022/03/12/why-...   \n",
       "1  https://www.fool.com/investing/2022/03/28/why-...   \n",
       "2  https://readwrite.com/rising-blockchain-invest...   \n",
       "3  https://economictimes.indiatimes.com/markets/c...   \n",
       "4  https://www.forbes.com/sites/johnnavin/2022/03...   \n",
       "\n",
       "                                          urlToImage           publishedAt  \\\n",
       "0  https://g.foolcdn.com/editorial/images/670282/...  2022-03-12T19:23:45Z   \n",
       "1  https://g.foolcdn.com/editorial/images/672278/...  2022-03-28T17:18:27Z   \n",
       "2  https://images.readwrite.com/wp-content/upload...  2022-03-07T15:00:57Z   \n",
       "3  https://img.etimg.com/thumb/msid-90042705,widt...  2022-03-07T03:46:02Z   \n",
       "4  https://imageio.forbes.com/specials-images/ima...  2022-03-27T14:24:18Z   \n",
       "\n",
       "                                             content  \n",
       "0  What happened\\r\\nRipple's XRP( XRP -1.34% ) to...  \n",
       "1  What happened\\r\\nToday's surge in valuations a...  \n",
       "2  The continuing integration of technology has b...  \n",
       "3  New Delhi: Major cryptocurrencies continued to...  \n",
       "4  Montreal, Canada - 28 February 2018: Stacked c...  "
      ]
     },
     "execution_count": 12,
     "metadata": {},
     "output_type": "execute_result"
    }
   ],
   "source": [
    "XRP_df = pd.DataFrame.from_dict(XRP_headlines_everything[\"articles\"])\n",
    "XRP_df.head()"
   ]
  },
  {
   "cell_type": "markdown",
   "id": "9c4bcc4d-a56d-46c5-bb5f-d6e6e9faac91",
   "metadata": {},
   "source": [
    "# Sentiment Analysis #"
   ]
  },
  {
   "cell_type": "code",
   "execution_count": 13,
   "id": "24e0b30f-9d2d-48cc-b6c8-9a3ca0012177",
   "metadata": {},
   "outputs": [
    {
     "name": "stderr",
     "output_type": "stream",
     "text": [
      "[nltk_data] Downloading package vader_lexicon to\n",
      "[nltk_data]     /Users/cliffordcharles/nltk_data...\n",
      "[nltk_data]   Package vader_lexicon is already up-to-date!\n"
     ]
    }
   ],
   "source": [
    "nltk.download('vader_lexicon')\n",
    "\n",
    "# Initialize the VADER sentiment analyzer\n",
    "analyzer = SentimentIntensityAnalyzer()"
   ]
  },
  {
   "cell_type": "code",
   "execution_count": 14,
   "id": "e34a96ad-2177-485a-b0b9-bc60268d5fbd",
   "metadata": {},
   "outputs": [
    {
     "data": {
      "text/html": [
       "<div>\n",
       "<style scoped>\n",
       "    .dataframe tbody tr th:only-of-type {\n",
       "        vertical-align: middle;\n",
       "    }\n",
       "\n",
       "    .dataframe tbody tr th {\n",
       "        vertical-align: top;\n",
       "    }\n",
       "\n",
       "    .dataframe thead th {\n",
       "        text-align: right;\n",
       "    }\n",
       "</style>\n",
       "<table border=\"1\" class=\"dataframe\">\n",
       "  <thead>\n",
       "    <tr style=\"text-align: right;\">\n",
       "      <th></th>\n",
       "      <th>text</th>\n",
       "      <th>date</th>\n",
       "      <th>compound</th>\n",
       "      <th>positive</th>\n",
       "      <th>negative</th>\n",
       "      <th>neutral</th>\n",
       "    </tr>\n",
       "  </thead>\n",
       "  <tbody>\n",
       "    <tr>\n",
       "      <th>0</th>\n",
       "      <td>What happened\\r\\nRipple's XRP( XRP -1.34% ) to...</td>\n",
       "      <td>2022-03-12</td>\n",
       "      <td>0.3400</td>\n",
       "      <td>0.066</td>\n",
       "      <td>0.000</td>\n",
       "      <td>0.934</td>\n",
       "    </tr>\n",
       "    <tr>\n",
       "      <th>1</th>\n",
       "      <td>What happened\\r\\nToday's surge in valuations a...</td>\n",
       "      <td>2022-03-28</td>\n",
       "      <td>0.7717</td>\n",
       "      <td>0.240</td>\n",
       "      <td>0.051</td>\n",
       "      <td>0.709</td>\n",
       "    </tr>\n",
       "    <tr>\n",
       "      <th>2</th>\n",
       "      <td>The continuing integration of technology has b...</td>\n",
       "      <td>2022-03-07</td>\n",
       "      <td>0.0571</td>\n",
       "      <td>0.166</td>\n",
       "      <td>0.131</td>\n",
       "      <td>0.703</td>\n",
       "    </tr>\n",
       "    <tr>\n",
       "      <th>3</th>\n",
       "      <td>New Delhi: Major cryptocurrencies continued to...</td>\n",
       "      <td>2022-03-07</td>\n",
       "      <td>-0.8748</td>\n",
       "      <td>0.066</td>\n",
       "      <td>0.294</td>\n",
       "      <td>0.639</td>\n",
       "    </tr>\n",
       "    <tr>\n",
       "      <th>4</th>\n",
       "      <td>Montreal, Canada - 28 February 2018: Stacked c...</td>\n",
       "      <td>2022-03-27</td>\n",
       "      <td>0.4019</td>\n",
       "      <td>0.085</td>\n",
       "      <td>0.000</td>\n",
       "      <td>0.915</td>\n",
       "    </tr>\n",
       "  </tbody>\n",
       "</table>\n",
       "</div>"
      ],
      "text/plain": [
       "                                                text        date  compound  \\\n",
       "0  What happened\\r\\nRipple's XRP( XRP -1.34% ) to...  2022-03-12    0.3400   \n",
       "1  What happened\\r\\nToday's surge in valuations a...  2022-03-28    0.7717   \n",
       "2  The continuing integration of technology has b...  2022-03-07    0.0571   \n",
       "3  New Delhi: Major cryptocurrencies continued to...  2022-03-07   -0.8748   \n",
       "4  Montreal, Canada - 28 February 2018: Stacked c...  2022-03-27    0.4019   \n",
       "\n",
       "   positive  negative  neutral  \n",
       "0     0.066     0.000    0.934  \n",
       "1     0.240     0.051    0.709  \n",
       "2     0.166     0.131    0.703  \n",
       "3     0.066     0.294    0.639  \n",
       "4     0.085     0.000    0.915  "
      ]
     },
     "execution_count": 14,
     "metadata": {},
     "output_type": "execute_result"
    }
   ],
   "source": [
    "XRP_sentiments = []\n",
    "\n",
    "for article in XRP_headlines_everything[\"articles\"]:\n",
    "    try:\n",
    "        text = article[\"content\"]\n",
    "        date = article[\"publishedAt\"][:10]\n",
    "        sentiment = analyzer.polarity_scores(text)\n",
    "        compound = sentiment[\"compound\"]\n",
    "        pos = sentiment[\"pos\"]\n",
    "        neu = sentiment[\"neu\"]\n",
    "        neg = sentiment[\"neg\"]\n",
    "        \n",
    "        XRP_sentiments.append({\n",
    "            \"text\": text,\n",
    "            \"date\": date,\n",
    "            \"compound\": compound,\n",
    "            \"positive\": pos,\n",
    "            \"negative\": neg,\n",
    "            \"neutral\": neu\n",
    "            \n",
    "        })\n",
    "        \n",
    "    except AttributeError:\n",
    "        pass\n",
    "    \n",
    "# Create DataFrame\n",
    "XRP_df_sentiment = pd.DataFrame(XRP_sentiments)\n",
    "\n",
    "# Reorder DataFrame columns\n",
    "#cols = [\"date\", \"text\", \"compound\", \"positive\", \"negative\", \"neutral\"]\n",
    "#XRP_df_sentiment = XRP_sentiments[cols]\n",
    "\n",
    "XRP_df_sentiment.head()\n",
    "\n"
   ]
  },
  {
   "cell_type": "code",
   "execution_count": 15,
   "id": "ae4e290b-3231-4f83-8647-c8f803510604",
   "metadata": {},
   "outputs": [
    {
     "data": {
      "text/html": [
       "<div>\n",
       "<style scoped>\n",
       "    .dataframe tbody tr th:only-of-type {\n",
       "        vertical-align: middle;\n",
       "    }\n",
       "\n",
       "    .dataframe tbody tr th {\n",
       "        vertical-align: top;\n",
       "    }\n",
       "\n",
       "    .dataframe thead th {\n",
       "        text-align: right;\n",
       "    }\n",
       "</style>\n",
       "<table border=\"1\" class=\"dataframe\">\n",
       "  <thead>\n",
       "    <tr style=\"text-align: right;\">\n",
       "      <th></th>\n",
       "      <th>compound</th>\n",
       "      <th>positive</th>\n",
       "      <th>negative</th>\n",
       "      <th>neutral</th>\n",
       "    </tr>\n",
       "  </thead>\n",
       "  <tbody>\n",
       "    <tr>\n",
       "      <th>count</th>\n",
       "      <td>20.000000</td>\n",
       "      <td>20.000000</td>\n",
       "      <td>20.000000</td>\n",
       "      <td>20.00000</td>\n",
       "    </tr>\n",
       "    <tr>\n",
       "      <th>mean</th>\n",
       "      <td>0.050900</td>\n",
       "      <td>0.073900</td>\n",
       "      <td>0.073100</td>\n",
       "      <td>0.85300</td>\n",
       "    </tr>\n",
       "    <tr>\n",
       "      <th>std</th>\n",
       "      <td>0.475172</td>\n",
       "      <td>0.063059</td>\n",
       "      <td>0.103081</td>\n",
       "      <td>0.11038</td>\n",
       "    </tr>\n",
       "    <tr>\n",
       "      <th>min</th>\n",
       "      <td>-0.874800</td>\n",
       "      <td>0.000000</td>\n",
       "      <td>0.000000</td>\n",
       "      <td>0.63900</td>\n",
       "    </tr>\n",
       "    <tr>\n",
       "      <th>25%</th>\n",
       "      <td>0.000000</td>\n",
       "      <td>0.037500</td>\n",
       "      <td>0.000000</td>\n",
       "      <td>0.74250</td>\n",
       "    </tr>\n",
       "    <tr>\n",
       "      <th>50%</th>\n",
       "      <td>0.177900</td>\n",
       "      <td>0.066000</td>\n",
       "      <td>0.020500</td>\n",
       "      <td>0.88900</td>\n",
       "    </tr>\n",
       "    <tr>\n",
       "      <th>75%</th>\n",
       "      <td>0.355475</td>\n",
       "      <td>0.098000</td>\n",
       "      <td>0.128000</td>\n",
       "      <td>0.93475</td>\n",
       "    </tr>\n",
       "    <tr>\n",
       "      <th>max</th>\n",
       "      <td>0.771700</td>\n",
       "      <td>0.240000</td>\n",
       "      <td>0.304000</td>\n",
       "      <td>1.00000</td>\n",
       "    </tr>\n",
       "  </tbody>\n",
       "</table>\n",
       "</div>"
      ],
      "text/plain": [
       "        compound   positive   negative   neutral\n",
       "count  20.000000  20.000000  20.000000  20.00000\n",
       "mean    0.050900   0.073900   0.073100   0.85300\n",
       "std     0.475172   0.063059   0.103081   0.11038\n",
       "min    -0.874800   0.000000   0.000000   0.63900\n",
       "25%     0.000000   0.037500   0.000000   0.74250\n",
       "50%     0.177900   0.066000   0.020500   0.88900\n",
       "75%     0.355475   0.098000   0.128000   0.93475\n",
       "max     0.771700   0.240000   0.304000   1.00000"
      ]
     },
     "execution_count": 15,
     "metadata": {},
     "output_type": "execute_result"
    }
   ],
   "source": [
    "XRP_df_sentiment.describe()"
   ]
  },
  {
   "cell_type": "code",
   "execution_count": 16,
   "id": "3c22886d-a683-4150-9dee-f66d06627d21",
   "metadata": {},
   "outputs": [
    {
     "data": {
      "text/plain": [
       "<AxesSubplot:>"
      ]
     },
     "execution_count": 16,
     "metadata": {},
     "output_type": "execute_result"
    },
    {
     "data": {
      "image/png": "[encoded data removed]",
      "text/plain": [
       "<Figure size 432x288 with 1 Axes>"
      ]
     },
     "metadata": {
      "needs_background": "light"
     },
     "output_type": "display_data"
    }
   ],
   "source": [
    "XRP_df_sentiment.plot(kind='bar')"
   ]
  },
  {
   "cell_type": "markdown",
   "id": "699eb37a-85f6-4b80-8d65-b16ae82f6b5d",
   "metadata": {},
   "source": []
  },
  {
   "cell_type": "code",
   "execution_count": null,
   "id": "d7efe376-939e-40d7-a7f7-f10cfe440d49",
   "metadata": {},
   "outputs": [],
   "source": []
  },
  {
   "cell_type": "code",
   "execution_count": null,
   "id": "6a331673-7f3a-4ab4-b96f-8fe56333d31e",
   "metadata": {},
   "outputs": [],
   "source": []
  },
  {
   "cell_type": "code",
   "execution_count": null,
   "id": "d2a5d9ee-8e08-40b7-954c-84db8d2ebcb8",
   "metadata": {},
   "outputs": [],
   "source": []
  }
 ],
 "metadata": {
  "kernelspec": {
   "display_name": "Python 3 (ipykernel)",
   "language": "python",
   "name": "python3"
  },
  "language_info": {
   "codemirror_mode": {
    "name": "ipython",
    "version": 3
   },
   "file_extension": ".py",
   "mimetype": "text/x-python",
   "name": "python",
   "nbconvert_exporter": "python",
   "pygments_lexer": "ipython3",
   "version": "3.9.7"
  }
 },
 "nbformat": 4,
 "nbformat_minor": 5
}
